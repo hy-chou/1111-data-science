{
 "cells": [
  {
   "cell_type": "markdown",
   "id": "ce0ebbd3",
   "metadata": {},
   "source": [
    "# 2022-12-04 Data Science Homework 5 Problem 1\n",
    "\n",
    "###### HsuanYu CHOU"
   ]
  },
  {
   "cell_type": "code",
   "execution_count": 1,
   "id": "d4b88b70",
   "metadata": {},
   "outputs": [],
   "source": [
    "import numpy as np"
   ]
  },
  {
   "cell_type": "code",
   "execution_count": 2,
   "id": "68399c64",
   "metadata": {},
   "outputs": [],
   "source": [
    "def gini(n):\n",
    "    s = sum(n)\n",
    "    return 1 - (n[0] / s) ** 2 - (n[1] / s) ** 2\n",
    "\n",
    "def wgini(n):\n",
    "    return sum(n) * gini(n)"
   ]
  },
  {
   "cell_type": "code",
   "execution_count": 3,
   "id": "852e8034",
   "metadata": {},
   "outputs": [
    {
     "name": "stdout",
     "output_type": "stream",
     "text": [
      "[['Customer ID' 'Gender' 'Car Type' 'Shirt Size' 'Class']\n",
      " ['1' 'M' 'Family' 'Small' 'C0']\n",
      " ['2' 'M' 'Family' 'Medium' 'C0']\n",
      " ['3' 'M' 'Family' 'Extra Large' 'C0']\n",
      " ['4' 'M' 'Sports' 'Extra Large' 'C0']\n",
      " ['5' 'M' 'Family' 'Large' 'C0']\n",
      " ['6' 'M' 'Family' 'Extra Large' 'C0']\n",
      " ['7' 'M' 'Luxury' 'Extra Large' 'C0']\n",
      " ['8' 'F' 'Family' 'Small' 'C0']\n",
      " ['9' 'F' 'Family' 'Medium' 'C0']\n",
      " ['10' 'F' 'Luxury' 'Large' 'C0']\n",
      " ['11' 'F' 'Luxury' 'Large' 'C0']\n",
      " ['12' 'M' 'Sports' 'Medium' 'C1']\n",
      " ['13' 'M' 'Sports' 'Large' 'C1']\n",
      " ['14' 'M' 'Sports' 'Medium' 'C1']\n",
      " ['15' 'F' 'Sports' 'Small' 'C1']\n",
      " ['16' 'F' 'Luxury' 'Small' 'C1']\n",
      " ['17' 'F' 'Luxury' 'Small' 'C1']\n",
      " ['18' 'F' 'Sports' 'Medium' 'C1']\n",
      " ['19' 'F' 'Luxury' 'Medium' 'C1']\n",
      " ['20' 'F' 'Luxury' 'Medium' 'C1']]\n"
     ]
    }
   ],
   "source": [
    "data = []\n",
    "\n",
    "with open('./data.tsv') as f:\n",
    "    lines = f.readlines()\n",
    "for line in lines:\n",
    "    l = line[:-1].split('\\t')\n",
    "    data.append(l)\n",
    "\n",
    "data = np.array(data)\n",
    "print(data)"
   ]
  },
  {
   "cell_type": "markdown",
   "id": "9ea3c68d",
   "metadata": {},
   "source": [
    "## ROOT"
   ]
  },
  {
   "cell_type": "code",
   "execution_count": 4,
   "id": "dcddffb5",
   "metadata": {},
   "outputs": [
    {
     "name": "stdout",
     "output_type": "stream",
     "text": [
      "[['1' 'M' 'Family' 'Small' 'C0']\n",
      " ['2' 'M' 'Family' 'Medium' 'C0']\n",
      " ['3' 'M' 'Family' 'Extra Large' 'C0']\n",
      " ['4' 'M' 'Sports' 'Extra Large' 'C0']\n",
      " ['5' 'M' 'Family' 'Large' 'C0']\n",
      " ['6' 'M' 'Family' 'Extra Large' 'C0']\n",
      " ['7' 'M' 'Luxury' 'Extra Large' 'C0']\n",
      " ['8' 'F' 'Family' 'Small' 'C0']\n",
      " ['9' 'F' 'Family' 'Medium' 'C0']\n",
      " ['10' 'F' 'Luxury' 'Large' 'C0']\n",
      " ['11' 'F' 'Luxury' 'Large' 'C0']\n",
      " ['12' 'M' 'Sports' 'Medium' 'C1']\n",
      " ['13' 'M' 'Sports' 'Large' 'C1']\n",
      " ['14' 'M' 'Sports' 'Medium' 'C1']\n",
      " ['15' 'F' 'Sports' 'Small' 'C1']\n",
      " ['16' 'F' 'Luxury' 'Small' 'C1']\n",
      " ['17' 'F' 'Luxury' 'Small' 'C1']\n",
      " ['18' 'F' 'Sports' 'Medium' 'C1']\n",
      " ['19' 'F' 'Luxury' 'Medium' 'C1']\n",
      " ['20' 'F' 'Luxury' 'Medium' 'C1']]\n"
     ]
    }
   ],
   "source": [
    "root = data[1:]\n",
    "print(root)"
   ]
  },
  {
   "cell_type": "code",
   "execution_count": 5,
   "id": "311104a2",
   "metadata": {},
   "outputs": [
    {
     "name": "stdout",
     "output_type": "stream",
     "text": [
      "[11  9]\n",
      "[7 3] [4 6]\n",
      "[7 0] [1 5] [3 4]\n",
      "[2 3] [2 5] [3 1] [4 0]\n"
     ]
    }
   ],
   "source": [
    "n_01 = np.array([0, 0])\n",
    "n_M, n_F = np.array([0, 0]), np.array([0, 0])\n",
    "n_Fa, n_Sp, n_Lu = np.array([0, 0]), np.array([0, 0]), np.array([0, 0])\n",
    "n_Sm, n_Me, n_La, n_Ex = np.array([0, 0]), np.array([0, 0]), np.array([0, 0]), np.array([0, 0])\n",
    "\n",
    "for i in root[:, 0]:\n",
    "    row = data[int(i)]\n",
    "\n",
    "    n_01[1 - int(row[-1] == 'C0')] += 1\n",
    "\n",
    "    if row[1] == 'M':\n",
    "        n_M[1 - int(row[-1] == 'C0')] += 1\n",
    "    if row[1] == 'F':\n",
    "        n_F[1 - int(row[-1] == 'C0')] += 1\n",
    "\n",
    "    if row[2] == 'Family':\n",
    "        n_Fa[1 - int(row[-1] == 'C0')] += 1\n",
    "    if row[2] == 'Sports':\n",
    "        n_Sp[1 - int(row[-1] == 'C0')] += 1\n",
    "    if row[2] == 'Luxury':\n",
    "        n_Lu[1 - int(row[-1] == 'C0')] += 1\n",
    "\n",
    "    if row[3] == 'Small':\n",
    "        n_Sm[1 - int(row[-1] == 'C0')] += 1\n",
    "    if row[3] == 'Medium':\n",
    "        n_Me[1 - int(row[-1] == 'C0')] += 1\n",
    "    if row[3] == 'Large':\n",
    "        n_La[1 - int(row[-1] == 'C0')] += 1\n",
    "    if row[3] == 'Extra Large':\n",
    "        n_Ex[1 - int(row[-1] == 'C0')] += 1\n",
    "\n",
    "print(n_01)\n",
    "print(n_M, n_F)\n",
    "print(n_Fa, n_Sp, n_Lu)\n",
    "print(n_Sm, n_Me, n_La, n_Ex)"
   ]
  },
  {
   "cell_type": "code",
   "execution_count": 6,
   "id": "f76f603d",
   "metadata": {},
   "outputs": [
    {
     "name": "stdout",
     "output_type": "stream",
     "text": [
      "Gender: 0.45\n",
      "CT Fa: 0.27692307692307694\n",
      "CT Sp: 0.369047619047619\n",
      "CT Lu: 0.4791208791208791\n",
      "SS Sm: 0.48\n",
      "SS Me: 0.4197802197802198\n",
      "SS La: 0.475\n",
      "SS Ex: 0.39375\n"
     ]
    }
   ],
   "source": [
    "gini_Gender = (wgini(n_M) + wgini(n_F)) / sum(n_01)\n",
    "gini_CT_Fa = (wgini(n_Fa) + wgini(n_01 - n_Fa)) / sum(n_01)\n",
    "gini_CT_Sp = (wgini(n_Sp) + wgini(n_01 - n_Sp)) / sum(n_01)\n",
    "gini_CT_Lu = (wgini(n_Lu) + wgini(n_01 - n_Lu)) / sum(n_01)\n",
    "gini_SS_Sm = (wgini(n_Sm) + wgini(n_01 - n_Sm)) / sum(n_01)\n",
    "gini_SS_Me = (wgini(n_Me) + wgini(n_01 - n_Me)) / sum(n_01)\n",
    "gini_SS_La = (wgini(n_La) + wgini(n_01 - n_La)) / sum(n_01)\n",
    "gini_SS_Ex = (wgini(n_Ex) + wgini(n_01 - n_Ex)) / sum(n_01)\n",
    "\n",
    "print('Gender:', gini_Gender)\n",
    "print('CT Fa:', gini_CT_Fa)\n",
    "print('CT Sp:', gini_CT_Sp)\n",
    "print('CT Lu:', gini_CT_Lu)\n",
    "print('SS Sm:', gini_SS_Sm)\n",
    "print('SS Me:', gini_SS_Me)\n",
    "print('SS La:', gini_SS_La)\n",
    "print('SS Ex:', gini_SS_Ex)"
   ]
  },
  {
   "cell_type": "markdown",
   "id": "ad04dc67",
   "metadata": {},
   "source": [
    "### Split root by `'Car Type'` being `'Family'` or not (gini index ~= 0.2769)\n",
    "\n",
    "```\n",
    "                 ┌ T -> node1\n",
    "root -> CT == Fa ┤\n",
    "                 └ F -> node2\n",
    "```"
   ]
  },
  {
   "cell_type": "code",
   "execution_count": 7,
   "id": "e2994011",
   "metadata": {},
   "outputs": [],
   "source": [
    "node1 = root[root[:, 2] == 'Family']\n",
    "node2 = root[root[:, 2] != 'Family']"
   ]
  },
  {
   "cell_type": "markdown",
   "id": "7be730cd",
   "metadata": {},
   "source": [
    "## NODE1"
   ]
  },
  {
   "cell_type": "code",
   "execution_count": 8,
   "id": "0408ba86",
   "metadata": {},
   "outputs": [
    {
     "name": "stdout",
     "output_type": "stream",
     "text": [
      "[['1' 'M' 'Family' 'Small' 'C0']\n",
      " ['2' 'M' 'Family' 'Medium' 'C0']\n",
      " ['3' 'M' 'Family' 'Extra Large' 'C0']\n",
      " ['5' 'M' 'Family' 'Large' 'C0']\n",
      " ['6' 'M' 'Family' 'Extra Large' 'C0']\n",
      " ['8' 'F' 'Family' 'Small' 'C0']\n",
      " ['9' 'F' 'Family' 'Medium' 'C0']]\n"
     ]
    }
   ],
   "source": [
    "print(node1)"
   ]
  },
  {
   "cell_type": "markdown",
   "id": "d3bc650c",
   "metadata": {},
   "source": [
    "### All C0. Node1 is a leaf.\n",
    "\n",
    "```\n",
    "node1 -> C0\n",
    "```\n",
    "\n",
    "## NODE2"
   ]
  },
  {
   "cell_type": "code",
   "execution_count": 9,
   "id": "356f614e",
   "metadata": {},
   "outputs": [
    {
     "name": "stdout",
     "output_type": "stream",
     "text": [
      "[['4' 'M' 'Sports' 'Extra Large' 'C0']\n",
      " ['7' 'M' 'Luxury' 'Extra Large' 'C0']\n",
      " ['10' 'F' 'Luxury' 'Large' 'C0']\n",
      " ['11' 'F' 'Luxury' 'Large' 'C0']\n",
      " ['12' 'M' 'Sports' 'Medium' 'C1']\n",
      " ['13' 'M' 'Sports' 'Large' 'C1']\n",
      " ['14' 'M' 'Sports' 'Medium' 'C1']\n",
      " ['15' 'F' 'Sports' 'Small' 'C1']\n",
      " ['16' 'F' 'Luxury' 'Small' 'C1']\n",
      " ['17' 'F' 'Luxury' 'Small' 'C1']\n",
      " ['18' 'F' 'Sports' 'Medium' 'C1']\n",
      " ['19' 'F' 'Luxury' 'Medium' 'C1']\n",
      " ['20' 'F' 'Luxury' 'Medium' 'C1']]\n"
     ]
    }
   ],
   "source": [
    "print(node2)"
   ]
  },
  {
   "cell_type": "code",
   "execution_count": 10,
   "id": "abbae44a",
   "metadata": {},
   "outputs": [
    {
     "name": "stdout",
     "output_type": "stream",
     "text": [
      "[4 9]\n",
      "[2 3] [2 6]\n",
      "[0 0] [1 5] [3 4]\n",
      "[0 3] [0 5] [2 1] [2 0]\n"
     ]
    }
   ],
   "source": [
    "n_01 = np.array([0, 0])\n",
    "n_M, n_F = np.array([0, 0]), np.array([0, 0])\n",
    "n_Fa, n_Sp, n_Lu = np.array([0, 0]), np.array([0, 0]), np.array([0, 0])\n",
    "n_Sm, n_Me, n_La, n_Ex = np.array([0, 0]), np.array([0, 0]), np.array([0, 0]), np.array([0, 0])\n",
    "\n",
    "for i in node2[:, 0]:\n",
    "    row = data[int(i)]\n",
    "\n",
    "    n_01[1 - int(row[-1] == 'C0')] += 1\n",
    "\n",
    "    if row[1] == 'M':\n",
    "        n_M[1 - int(row[-1] == 'C0')] += 1\n",
    "    if row[1] == 'F':\n",
    "        n_F[1 - int(row[-1] == 'C0')] += 1\n",
    "\n",
    "    if row[2] == 'Family':\n",
    "        n_Fa[1 - int(row[-1] == 'C0')] += 1\n",
    "    if row[2] == 'Sports':\n",
    "        n_Sp[1 - int(row[-1] == 'C0')] += 1\n",
    "    if row[2] == 'Luxury':\n",
    "        n_Lu[1 - int(row[-1] == 'C0')] += 1\n",
    "\n",
    "    if row[3] == 'Small':\n",
    "        n_Sm[1 - int(row[-1] == 'C0')] += 1\n",
    "    if row[3] == 'Medium':\n",
    "        n_Me[1 - int(row[-1] == 'C0')] += 1\n",
    "    if row[3] == 'Large':\n",
    "        n_La[1 - int(row[-1] == 'C0')] += 1\n",
    "    if row[3] == 'Extra Large':\n",
    "        n_Ex[1 - int(row[-1] == 'C0')] += 1\n",
    "\n",
    "print(n_01)\n",
    "print(n_M, n_F)\n",
    "print(n_Fa, n_Sp, n_Lu)\n",
    "print(n_Sm, n_Me, n_La, n_Ex)"
   ]
  },
  {
   "cell_type": "code",
   "execution_count": 11,
   "id": "f688e6fd",
   "metadata": {},
   "outputs": [
    {
     "name": "stdout",
     "output_type": "stream",
     "text": [
      "Gender: 0.4153846153846154\n",
      "CT Fa: nan\n",
      "CT Sp: 0.39194139194139194\n",
      "CT Lu: 0.39194139194139194\n",
      "SS Sm: 0.3692307692307692\n",
      "SS Me: 0.3076923076923077\n",
      "SS La: 0.3487179487179486\n",
      "SS Ex: 0.25174825174825166\n"
     ]
    },
    {
     "name": "stderr",
     "output_type": "stream",
     "text": [
      "/var/folders/1s/h26s0qxx3_b3r_s010t_9dyc0000gn/T/ipykernel_52898/1676990385.py:3: RuntimeWarning: invalid value encountered in long_scalars\n",
      "  return 1 - (n[0] / s) ** 2 - (n[1] / s) ** 2\n"
     ]
    }
   ],
   "source": [
    "gini_Gender = (wgini(n_M) + wgini(n_F)) / sum(n_01)\n",
    "gini_CT_Fa = (wgini(n_Fa) + wgini(n_01 - n_Fa)) / sum(n_01)\n",
    "gini_CT_Sp = (wgini(n_Sp) + wgini(n_01 - n_Sp)) / sum(n_01)\n",
    "gini_CT_Lu = (wgini(n_Lu) + wgini(n_01 - n_Lu)) / sum(n_01)\n",
    "gini_SS_Sm = (wgini(n_Sm) + wgini(n_01 - n_Sm)) / sum(n_01)\n",
    "gini_SS_Me = (wgini(n_Me) + wgini(n_01 - n_Me)) / sum(n_01)\n",
    "gini_SS_La = (wgini(n_La) + wgini(n_01 - n_La)) / sum(n_01)\n",
    "gini_SS_Ex = (wgini(n_Ex) + wgini(n_01 - n_Ex)) / sum(n_01)\n",
    "\n",
    "print('Gender:', gini_Gender)\n",
    "print('CT Fa:', gini_CT_Fa)\n",
    "print('CT Sp:', gini_CT_Sp)\n",
    "print('CT Lu:', gini_CT_Lu)\n",
    "print('SS Sm:', gini_SS_Sm)\n",
    "print('SS Me:', gini_SS_Me)\n",
    "print('SS La:', gini_SS_La)\n",
    "print('SS Ex:', gini_SS_Ex)"
   ]
  },
  {
   "cell_type": "markdown",
   "id": "3ec77634",
   "metadata": {},
   "source": [
    "### Split node2 by `'Shirt Size'` being `'Extra Large'` or not (gini index ~= 0.2517)\n",
    "\n",
    "```\n",
    "                  ┌ T -> node3\n",
    "node2 -> SS == Ex ┤\n",
    "                  └ F -> node4\n",
    "```"
   ]
  },
  {
   "cell_type": "code",
   "execution_count": 12,
   "id": "545211e1",
   "metadata": {},
   "outputs": [],
   "source": [
    "node3 = node2[node2[:, 3] == 'Extra Large']\n",
    "node4 = node2[node2[:, 3] != 'Extra Large']"
   ]
  },
  {
   "cell_type": "markdown",
   "id": "1670eec3",
   "metadata": {},
   "source": [
    "## NODE3"
   ]
  },
  {
   "cell_type": "code",
   "execution_count": 13,
   "id": "aa534799",
   "metadata": {},
   "outputs": [
    {
     "name": "stdout",
     "output_type": "stream",
     "text": [
      "[['4' 'M' 'Sports' 'Extra Large' 'C0']\n",
      " ['7' 'M' 'Luxury' 'Extra Large' 'C0']]\n"
     ]
    }
   ],
   "source": [
    "print(node3)"
   ]
  },
  {
   "cell_type": "markdown",
   "id": "44dfb49b",
   "metadata": {},
   "source": [
    "### All C0. Node3 is a leaf.\n",
    "\n",
    "```\n",
    "node3 -> C0\n",
    "```\n",
    "\n",
    "## NODE4"
   ]
  },
  {
   "cell_type": "code",
   "execution_count": 14,
   "id": "52db8589",
   "metadata": {},
   "outputs": [
    {
     "name": "stdout",
     "output_type": "stream",
     "text": [
      "[['10' 'F' 'Luxury' 'Large' 'C0']\n",
      " ['11' 'F' 'Luxury' 'Large' 'C0']\n",
      " ['12' 'M' 'Sports' 'Medium' 'C1']\n",
      " ['13' 'M' 'Sports' 'Large' 'C1']\n",
      " ['14' 'M' 'Sports' 'Medium' 'C1']\n",
      " ['15' 'F' 'Sports' 'Small' 'C1']\n",
      " ['16' 'F' 'Luxury' 'Small' 'C1']\n",
      " ['17' 'F' 'Luxury' 'Small' 'C1']\n",
      " ['18' 'F' 'Sports' 'Medium' 'C1']\n",
      " ['19' 'F' 'Luxury' 'Medium' 'C1']\n",
      " ['20' 'F' 'Luxury' 'Medium' 'C1']]\n"
     ]
    }
   ],
   "source": [
    "print(node4)"
   ]
  },
  {
   "cell_type": "code",
   "execution_count": 15,
   "id": "e79a3277",
   "metadata": {},
   "outputs": [
    {
     "name": "stdout",
     "output_type": "stream",
     "text": [
      "[2 9]\n",
      "[0 3] [2 6]\n",
      "[0 0] [0 5] [2 4]\n",
      "[0 3] [0 5] [2 1] [0 0]\n"
     ]
    }
   ],
   "source": [
    "n_01 = np.array([0, 0])\n",
    "n_M, n_F = np.array([0, 0]), np.array([0, 0])\n",
    "n_Fa, n_Sp, n_Lu = np.array([0, 0]), np.array([0, 0]), np.array([0, 0])\n",
    "n_Sm, n_Me, n_La, n_Ex = np.array([0, 0]), np.array([0, 0]), np.array([0, 0]), np.array([0, 0])\n",
    "\n",
    "for i in node4[:, 0]:\n",
    "    row = data[int(i)]\n",
    "\n",
    "    n_01[1 - int(row[-1] == 'C0')] += 1\n",
    "\n",
    "    if row[1] == 'M':\n",
    "        n_M[1 - int(row[-1] == 'C0')] += 1\n",
    "    if row[1] == 'F':\n",
    "        n_F[1 - int(row[-1] == 'C0')] += 1\n",
    "\n",
    "    if row[2] == 'Family':\n",
    "        n_Fa[1 - int(row[-1] == 'C0')] += 1\n",
    "    if row[2] == 'Sports':\n",
    "        n_Sp[1 - int(row[-1] == 'C0')] += 1\n",
    "    if row[2] == 'Luxury':\n",
    "        n_Lu[1 - int(row[-1] == 'C0')] += 1\n",
    "\n",
    "    if row[3] == 'Small':\n",
    "        n_Sm[1 - int(row[-1] == 'C0')] += 1\n",
    "    if row[3] == 'Medium':\n",
    "        n_Me[1 - int(row[-1] == 'C0')] += 1\n",
    "    if row[3] == 'Large':\n",
    "        n_La[1 - int(row[-1] == 'C0')] += 1\n",
    "    if row[3] == 'Extra Large':\n",
    "        n_Ex[1 - int(row[-1] == 'C0')] += 1\n",
    "\n",
    "print(n_01)\n",
    "print(n_M, n_F)\n",
    "print(n_Fa, n_Sp, n_Lu)\n",
    "print(n_Sm, n_Me, n_La, n_Ex)"
   ]
  },
  {
   "cell_type": "code",
   "execution_count": 16,
   "id": "8e78661c",
   "metadata": {},
   "outputs": [
    {
     "name": "stdout",
     "output_type": "stream",
     "text": [
      "Gender: 0.2727272727272727\n",
      "CT Fa: nan\n",
      "CT Sp: 0.2424242424242424\n",
      "CT Lu: 0.2424242424242424\n",
      "SS Sm: 0.2727272727272727\n",
      "SS Me: 0.2424242424242424\n",
      "SS La: 0.12121212121212123\n",
      "SS Ex: nan\n"
     ]
    },
    {
     "name": "stderr",
     "output_type": "stream",
     "text": [
      "/var/folders/1s/h26s0qxx3_b3r_s010t_9dyc0000gn/T/ipykernel_52898/1676990385.py:3: RuntimeWarning: invalid value encountered in long_scalars\n",
      "  return 1 - (n[0] / s) ** 2 - (n[1] / s) ** 2\n"
     ]
    }
   ],
   "source": [
    "gini_Gender = (wgini(n_M) + wgini(n_F)) / sum(n_01)\n",
    "gini_CT_Fa = (wgini(n_Fa) + wgini(n_01 - n_Fa)) / sum(n_01)\n",
    "gini_CT_Sp = (wgini(n_Sp) + wgini(n_01 - n_Sp)) / sum(n_01)\n",
    "gini_CT_Lu = (wgini(n_Lu) + wgini(n_01 - n_Lu)) / sum(n_01)\n",
    "gini_SS_Sm = (wgini(n_Sm) + wgini(n_01 - n_Sm)) / sum(n_01)\n",
    "gini_SS_Me = (wgini(n_Me) + wgini(n_01 - n_Me)) / sum(n_01)\n",
    "gini_SS_La = (wgini(n_La) + wgini(n_01 - n_La)) / sum(n_01)\n",
    "gini_SS_Ex = (wgini(n_Ex) + wgini(n_01 - n_Ex)) / sum(n_01)\n",
    "\n",
    "print('Gender:', gini_Gender)\n",
    "print('CT Fa:', gini_CT_Fa)\n",
    "print('CT Sp:', gini_CT_Sp)\n",
    "print('CT Lu:', gini_CT_Lu)\n",
    "print('SS Sm:', gini_SS_Sm)\n",
    "print('SS Me:', gini_SS_Me)\n",
    "print('SS La:', gini_SS_La)\n",
    "print('SS Ex:', gini_SS_Ex)"
   ]
  },
  {
   "cell_type": "markdown",
   "id": "bee1b445",
   "metadata": {},
   "source": [
    "### Split node4 by `'Shirt Size'` being `'Large'` or not (gini index ~= 0.1212)\n",
    "\n",
    "```\n",
    "                  ┌ T -> node5\n",
    "node4 -> SS == La ┤\n",
    "                  └ F -> node6\n",
    "```"
   ]
  },
  {
   "cell_type": "code",
   "execution_count": 17,
   "id": "bf678cd3",
   "metadata": {},
   "outputs": [],
   "source": [
    "node5 = node4[node4[:, 3] == 'Large']\n",
    "node6 = node4[node4[:, 3] != 'Large']"
   ]
  },
  {
   "cell_type": "markdown",
   "id": "1fade442",
   "metadata": {},
   "source": [
    "## NODE5"
   ]
  },
  {
   "cell_type": "code",
   "execution_count": 18,
   "id": "8f9c0561",
   "metadata": {},
   "outputs": [
    {
     "name": "stdout",
     "output_type": "stream",
     "text": [
      "[['10' 'F' 'Luxury' 'Large' 'C0']\n",
      " ['11' 'F' 'Luxury' 'Large' 'C0']\n",
      " ['13' 'M' 'Sports' 'Large' 'C1']]\n"
     ]
    }
   ],
   "source": [
    "print(node5)"
   ]
  },
  {
   "cell_type": "code",
   "execution_count": 19,
   "id": "a75f199e",
   "metadata": {},
   "outputs": [
    {
     "name": "stdout",
     "output_type": "stream",
     "text": [
      "[2 1]\n",
      "[0 1] [2 0]\n",
      "[0 0] [0 1] [2 0]\n",
      "[0 0] [0 0] [2 1] [0 0]\n"
     ]
    }
   ],
   "source": [
    "n_01 = np.array([0, 0])\n",
    "n_M, n_F = np.array([0, 0]), np.array([0, 0])\n",
    "n_Fa, n_Sp, n_Lu = np.array([0, 0]), np.array([0, 0]), np.array([0, 0])\n",
    "n_Sm, n_Me, n_La, n_Ex = np.array([0, 0]), np.array([0, 0]), np.array([0, 0]), np.array([0, 0])\n",
    "\n",
    "for i in node5[:, 0]:\n",
    "    row = data[int(i)]\n",
    "\n",
    "    n_01[1 - int(row[-1] == 'C0')] += 1\n",
    "\n",
    "    if row[1] == 'M':\n",
    "        n_M[1 - int(row[-1] == 'C0')] += 1\n",
    "    if row[1] == 'F':\n",
    "        n_F[1 - int(row[-1] == 'C0')] += 1\n",
    "\n",
    "    if row[2] == 'Family':\n",
    "        n_Fa[1 - int(row[-1] == 'C0')] += 1\n",
    "    if row[2] == 'Sports':\n",
    "        n_Sp[1 - int(row[-1] == 'C0')] += 1\n",
    "    if row[2] == 'Luxury':\n",
    "        n_Lu[1 - int(row[-1] == 'C0')] += 1\n",
    "\n",
    "    if row[3] == 'Small':\n",
    "        n_Sm[1 - int(row[-1] == 'C0')] += 1\n",
    "    if row[3] == 'Medium':\n",
    "        n_Me[1 - int(row[-1] == 'C0')] += 1\n",
    "    if row[3] == 'Large':\n",
    "        n_La[1 - int(row[-1] == 'C0')] += 1\n",
    "    if row[3] == 'Extra Large':\n",
    "        n_Ex[1 - int(row[-1] == 'C0')] += 1\n",
    "\n",
    "print(n_01)\n",
    "print(n_M, n_F)\n",
    "print(n_Fa, n_Sp, n_Lu)\n",
    "print(n_Sm, n_Me, n_La, n_Ex)"
   ]
  },
  {
   "cell_type": "code",
   "execution_count": 20,
   "id": "31b92476",
   "metadata": {},
   "outputs": [
    {
     "name": "stdout",
     "output_type": "stream",
     "text": [
      "Gender: 0.0\n",
      "CT Fa: nan\n",
      "CT Sp: 0.0\n",
      "CT Lu: 0.0\n",
      "SS Sm: nan\n",
      "SS Me: nan\n",
      "SS La: nan\n",
      "SS Ex: nan\n"
     ]
    },
    {
     "name": "stderr",
     "output_type": "stream",
     "text": [
      "/var/folders/1s/h26s0qxx3_b3r_s010t_9dyc0000gn/T/ipykernel_52898/1676990385.py:3: RuntimeWarning: invalid value encountered in long_scalars\n",
      "  return 1 - (n[0] / s) ** 2 - (n[1] / s) ** 2\n"
     ]
    }
   ],
   "source": [
    "gini_Gender = (wgini(n_M) + wgini(n_F)) / sum(n_01)\n",
    "gini_CT_Fa = (wgini(n_Fa) + wgini(n_01 - n_Fa)) / sum(n_01)\n",
    "gini_CT_Sp = (wgini(n_Sp) + wgini(n_01 - n_Sp)) / sum(n_01)\n",
    "gini_CT_Lu = (wgini(n_Lu) + wgini(n_01 - n_Lu)) / sum(n_01)\n",
    "gini_SS_Sm = (wgini(n_Sm) + wgini(n_01 - n_Sm)) / sum(n_01)\n",
    "gini_SS_Me = (wgini(n_Me) + wgini(n_01 - n_Me)) / sum(n_01)\n",
    "gini_SS_La = (wgini(n_La) + wgini(n_01 - n_La)) / sum(n_01)\n",
    "gini_SS_Ex = (wgini(n_Ex) + wgini(n_01 - n_Ex)) / sum(n_01)\n",
    "\n",
    "print('Gender:', gini_Gender)\n",
    "print('CT Fa:', gini_CT_Fa)\n",
    "print('CT Sp:', gini_CT_Sp)\n",
    "print('CT Lu:', gini_CT_Lu)\n",
    "print('SS Sm:', gini_SS_Sm)\n",
    "print('SS Me:', gini_SS_Me)\n",
    "print('SS La:', gini_SS_La)\n",
    "print('SS Ex:', gini_SS_Ex)"
   ]
  },
  {
   "cell_type": "markdown",
   "id": "5808243c",
   "metadata": {},
   "source": [
    "### Split node5 by `'Gender'` (gini index ~= 0.0000)\n",
    "\n",
    "```\n",
    "                ┌ M -> node7\n",
    "node5 -> Gender ┤\n",
    "                └ F -> node8\n",
    "```"
   ]
  },
  {
   "cell_type": "code",
   "execution_count": 21,
   "id": "3c0937c8",
   "metadata": {},
   "outputs": [],
   "source": [
    "node7 = node5[node5[:, 1] == 'M']\n",
    "node8 = node5[node5[:, 1] == 'F']"
   ]
  },
  {
   "cell_type": "markdown",
   "id": "b18938df",
   "metadata": {},
   "source": [
    "## NODE6"
   ]
  },
  {
   "cell_type": "code",
   "execution_count": 22,
   "id": "9261662c",
   "metadata": {},
   "outputs": [
    {
     "name": "stdout",
     "output_type": "stream",
     "text": [
      "[['12' 'M' 'Sports' 'Medium' 'C1']\n",
      " ['14' 'M' 'Sports' 'Medium' 'C1']\n",
      " ['15' 'F' 'Sports' 'Small' 'C1']\n",
      " ['16' 'F' 'Luxury' 'Small' 'C1']\n",
      " ['17' 'F' 'Luxury' 'Small' 'C1']\n",
      " ['18' 'F' 'Sports' 'Medium' 'C1']\n",
      " ['19' 'F' 'Luxury' 'Medium' 'C1']\n",
      " ['20' 'F' 'Luxury' 'Medium' 'C1']]\n"
     ]
    }
   ],
   "source": [
    "print(node6)"
   ]
  },
  {
   "cell_type": "markdown",
   "id": "3ad5ecd3",
   "metadata": {},
   "source": [
    "### All C1. Node6 is a leaf.\n",
    "\n",
    "```\n",
    "node6 -> C1\n",
    "```\n",
    "\n",
    "## NODE7"
   ]
  },
  {
   "cell_type": "code",
   "execution_count": 23,
   "id": "939a5d8f",
   "metadata": {},
   "outputs": [
    {
     "name": "stdout",
     "output_type": "stream",
     "text": [
      "[['13' 'M' 'Sports' 'Large' 'C1']]\n"
     ]
    }
   ],
   "source": [
    "print(node7)"
   ]
  },
  {
   "cell_type": "markdown",
   "id": "c060f7b9",
   "metadata": {},
   "source": [
    "### All C1. Node7 is a leaf.\n",
    "\n",
    "```\n",
    "node7 -> C1\n",
    "```\n",
    "\n",
    "## NODE8"
   ]
  },
  {
   "cell_type": "code",
   "execution_count": 24,
   "id": "c0b3a8e6",
   "metadata": {},
   "outputs": [
    {
     "name": "stdout",
     "output_type": "stream",
     "text": [
      "[['10' 'F' 'Luxury' 'Large' 'C0']\n",
      " ['11' 'F' 'Luxury' 'Large' 'C0']]\n"
     ]
    }
   ],
   "source": [
    "print(node8)"
   ]
  },
  {
   "cell_type": "markdown",
   "id": "0aa4de1a",
   "metadata": {},
   "source": [
    "### All C0. Node8 is a leaf.\n",
    "\n",
    "```\n",
    "node8 -> C0\n",
    "```"
   ]
  },
  {
   "cell_type": "markdown",
   "id": "57ffafe3",
   "metadata": {},
   "source": [
    "## TREE\n",
    "\n",
    "```\n",
    "                 ┌ T -> node1 -> C0\n",
    "root -> CT == Fa ┤                        ┌ T -> node3 -> C0                              ┌ M -> node7 -> C1\n",
    "                 └ F -> node2 -> SS == Ex ┤                        ┌ T -> node5 -> Gender ┤\n",
    "                                          └ F -> node4 -> SS == La ┤                      └ F -> node8 -> C0\n",
    "                                                                   └ F -> node6 -> C1\n",
    "```"
   ]
  },
  {
   "cell_type": "code",
   "execution_count": null,
   "id": "aed26502",
   "metadata": {},
   "outputs": [],
   "source": []
  }
 ],
 "metadata": {
  "kernelspec": {
   "display_name": "Python 3 (ipykernel)",
   "language": "python",
   "name": "python3"
  },
  "language_info": {
   "codemirror_mode": {
    "name": "ipython",
    "version": 3
   },
   "file_extension": ".py",
   "mimetype": "text/x-python",
   "name": "python",
   "nbconvert_exporter": "python",
   "pygments_lexer": "ipython3",
   "version": "3.10.9"
  }
 },
 "nbformat": 4,
 "nbformat_minor": 5
}
